{
 "cells": [
  {
   "cell_type": "code",
   "execution_count": 1,
   "metadata": {
    "scrolled": true
   },
   "outputs": [],
   "source": [
    "from sgp4.earth_gravity import wgs84\n",
    "from sgp4.io import twoline2rv\n",
    "import pyIGRF\n",
    "import pyproj\n",
    "import math\n",
    "import numpy as np"
   ]
  },
  {
   "cell_type": "code",
   "execution_count": 2,
   "metadata": {},
   "outputs": [],
   "source": [
    "# Orsted satellite TLE (https://www.calsky.com/observer/tle.cgi?satid=99008B&tdt=2456641.33063657)\n",
    "line1 = ('1 25635U 99008B   13348.59627062  .00000650  00000-0  16622-3 0  9860')\n",
    "line2 = ('2 25635 096.4421 173.2395 0141189 010.0389 029.8678 14.46831495780970')"
   ]
  },
  {
   "cell_type": "code",
   "execution_count": 3,
   "metadata": {},
   "outputs": [],
   "source": [
    "# load in spacecraft object\n",
    "satellite = twoline2rv(line1, line2, wgs84)"
   ]
  },
  {
   "cell_type": "code",
   "execution_count": 4,
   "metadata": {},
   "outputs": [],
   "source": [
    "# propagte orbit based on epoch\n",
    "year = 2013\n",
    "day = 14\n",
    "month = 12\n",
    "hour = 14\n",
    "minute = 18\n",
    "second = 37"
   ]
  },
  {
   "cell_type": "code",
   "execution_count": 5,
   "metadata": {},
   "outputs": [],
   "source": [
    "r, v = satellite.propagate(year, month, day, hour, minute, second)\n",
    "x = r[0]\n",
    "y = r[1]\n",
    "z = r[2]\n",
    "r_mag = np.linalg.norm(r)"
   ]
  },
  {
   "cell_type": "code",
   "execution_count": 6,
   "metadata": {},
   "outputs": [
    {
     "data": {
      "text/plain": [
       "(-5236.501106068836, 1137.472711241124, 4541.50244985641)"
      ]
     },
     "execution_count": 6,
     "metadata": {},
     "output_type": "execute_result"
    }
   ],
   "source": [
    "x, y, z"
   ]
  },
  {
   "cell_type": "code",
   "execution_count": 7,
   "metadata": {},
   "outputs": [],
   "source": [
    "# Convert ECEF position to geocentric\n",
    "lat = math.degrees(math.asin(z/r_mag))\n",
    "lon = math.degrees(math.atan2(y,x))\n",
    "R_E = 6378.137\n",
    "p = math.sqrt((x**2)+(y**2))\n",
    "alt = p/math.cos(math.radians(lat)) - R_E"
   ]
  },
  {
   "cell_type": "code",
   "execution_count": 8,
   "metadata": {},
   "outputs": [],
   "source": [
    "# Calculate magnetic field properties\n",
    "# Declination, Inclination, Horizontal intensity, North, East, Vertical, total intensity (nT)\n",
    "(D,I,H,Bx,By,Bz,F) = pyIGRF.igrf_variation(lat, lon, alt, year)"
   ]
  },
  {
   "cell_type": "code",
   "execution_count": 9,
   "metadata": {},
   "outputs": [
    {
     "data": {
      "text/plain": [
       "(167.74459932222308, 40.28173405882731, 646.1090452870058)"
      ]
     },
     "execution_count": 9,
     "metadata": {},
     "output_type": "execute_result"
    }
   ],
   "source": [
    "lon, lat, alt"
   ]
  },
  {
   "cell_type": "code",
   "execution_count": 10,
   "metadata": {},
   "outputs": [
    {
     "data": {
      "text/plain": [
       "(-0.06298895551653533,\n",
       " 0.024098876110463806,\n",
       " 4.691724203241417,\n",
       " 5.228653116191708,\n",
       " -21.512815067758225,\n",
       " 29.288854517493746,\n",
       " 26.25341004107369)"
      ]
     },
     "execution_count": 10,
     "metadata": {},
     "output_type": "execute_result"
    }
   ],
   "source": [
    "D,I,H,Bx,By,Bz,F"
   ]
  },
  {
   "cell_type": "code",
   "execution_count": null,
   "metadata": {},
   "outputs": [],
   "source": []
  }
 ],
 "metadata": {
  "@webio": {
   "lastCommId": null,
   "lastKernelId": null
  },
  "kernelspec": {
   "display_name": "Python 3",
   "language": "python",
   "name": "python3"
  },
  "language_info": {
   "codemirror_mode": {
    "name": "ipython",
    "version": 3
   },
   "file_extension": ".py",
   "mimetype": "text/x-python",
   "name": "python",
   "nbconvert_exporter": "python",
   "pygments_lexer": "ipython3",
   "version": "3.7.4"
  }
 },
 "nbformat": 4,
 "nbformat_minor": 2
}
